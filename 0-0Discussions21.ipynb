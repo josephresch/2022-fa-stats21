{
 "cells": [
  {
   "cell_type": "markdown",
   "metadata": {},
   "source": [
    "# Stats 21 Discussion\n",
    "\n",
    "## Week 1\n",
    "\n",
    "## Joseph Resch"
   ]
  },
  {
   "cell_type": "markdown",
   "metadata": {},
   "source": [
    "#### Discussions **not** mandatory\n",
    "\n",
    "#### I'm here to help you guys in whichever way that works for you, and not to add any stress.\n",
    "\n",
    "#### Office Hours: Monday 10 am - 12 pm on Zoom!\n",
    "\n",
    "Zoom Link: [ucla.zoom.us/my/josephresch](https://ucla.zoom.us/my/josephresch) (Also found on BruinLearn)"
   ]
  },
  {
   "cell_type": "markdown",
   "metadata": {},
   "source": [
    "### Visual Studio Code (Optional, it's still Jupyter Notebook)\n",
    "\n",
    "This will get you started, but optional: [Data Science in Visual Studio Code](https://code.visualstudio.com/docs/datascience/overview)\n",
    "\n",
    "Miles Chen GitHub for this course: [GitHub](https://github.com/smileschen/2022-fa-stats21)"
   ]
  }
 ],
 "metadata": {
  "kernelspec": {
   "display_name": "Python 3.10.8 64-bit",
   "language": "python",
   "name": "python3"
  },
  "language_info": {
   "codemirror_mode": {
    "name": "ipython",
    "version": 3
   },
   "file_extension": ".py",
   "mimetype": "text/x-python",
   "name": "python",
   "nbconvert_exporter": "python",
   "pygments_lexer": "ipython3",
   "version": "3.10.8"
  },
  "orig_nbformat": 4,
  "vscode": {
   "interpreter": {
    "hash": "b0fa6594d8f4cbf19f97940f81e996739fb7646882a419484c72d19e05852a7e"
   }
  }
 },
 "nbformat": 4,
 "nbformat_minor": 2
}
